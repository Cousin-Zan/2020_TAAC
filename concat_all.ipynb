{
 "cells": [
  {
   "cell_type": "code",
   "execution_count": 1,
   "metadata": {},
   "outputs": [],
   "source": [
    "import pandas as pd"
   ]
  },
  {
   "cell_type": "code",
   "execution_count": 10,
   "metadata": {},
   "outputs": [],
   "source": [
    "df=pd.read_csv(\"test_data_sorted_by_time/test_sorted_by_time_3010000.csv\")"
   ]
  },
  {
   "cell_type": "code",
   "execution_count": 11,
   "metadata": {},
   "outputs": [
    {
     "name": "stdout",
     "output_type": "stream",
     "text": [
      "100%"
     ]
    }
   ],
   "source": [
    "import sys,time\n",
    "for i in range(2,101):\n",
    "    a=3000000+i*10000\n",
    "    temp=pd.read_csv(\"test_data_sorted_by_time/test_sorted_by_time_%d.csv\"%a)\n",
    "    df=pd.concat([df,temp],ignore_index=True)\n",
    "    sys.stdout.write('\\r%s%%'%i)\n",
    "    sys.stdout.flush()"
   ]
  },
  {
   "cell_type": "code",
   "execution_count": 13,
   "metadata": {},
   "outputs": [],
   "source": [
    "df.to_csv(\"test_all_sorted.csv\")"
   ]
  },
  {
   "cell_type": "code",
   "execution_count": 12,
   "metadata": {},
   "outputs": [
    {
     "name": "stdout",
     "output_type": "stream",
     "text": [
      "<class 'pandas.core.frame.DataFrame'>\n",
      "RangeIndex: 100432437 entries, 0 to 100432436\n",
      "Data columns (total 4 columns):\n",
      " #   Column       Dtype\n",
      "---  ------       -----\n",
      " 0   time         int64\n",
      " 1   user_id      int64\n",
      " 2   creative_id  int64\n",
      " 3   click_times  int64\n",
      "dtypes: int64(4)\n",
      "memory usage: 3.0 GB\n"
     ]
    }
   ],
   "source": [
    "df.info()"
   ]
  },
  {
   "cell_type": "code",
   "execution_count": 14,
   "metadata": {},
   "outputs": [
    {
     "data": {
      "text/html": [
       "<div>\n",
       "<style scoped>\n",
       "    .dataframe tbody tr th:only-of-type {\n",
       "        vertical-align: middle;\n",
       "    }\n",
       "\n",
       "    .dataframe tbody tr th {\n",
       "        vertical-align: top;\n",
       "    }\n",
       "\n",
       "    .dataframe thead th {\n",
       "        text-align: right;\n",
       "    }\n",
       "</style>\n",
       "<table border=\"1\" class=\"dataframe\">\n",
       "  <thead>\n",
       "    <tr style=\"text-align: right;\">\n",
       "      <th></th>\n",
       "      <th>time</th>\n",
       "      <th>user_id</th>\n",
       "      <th>creative_id</th>\n",
       "      <th>click_times</th>\n",
       "    </tr>\n",
       "  </thead>\n",
       "  <tbody>\n",
       "    <tr>\n",
       "      <th>100432432</th>\n",
       "      <td>75</td>\n",
       "      <td>4000000</td>\n",
       "      <td>3642395</td>\n",
       "      <td>1</td>\n",
       "    </tr>\n",
       "    <tr>\n",
       "      <th>100432433</th>\n",
       "      <td>75</td>\n",
       "      <td>4000000</td>\n",
       "      <td>3596158</td>\n",
       "      <td>1</td>\n",
       "    </tr>\n",
       "    <tr>\n",
       "      <th>100432434</th>\n",
       "      <td>76</td>\n",
       "      <td>4000000</td>\n",
       "      <td>366858</td>\n",
       "      <td>1</td>\n",
       "    </tr>\n",
       "    <tr>\n",
       "      <th>100432435</th>\n",
       "      <td>76</td>\n",
       "      <td>4000000</td>\n",
       "      <td>3333680</td>\n",
       "      <td>1</td>\n",
       "    </tr>\n",
       "    <tr>\n",
       "      <th>100432436</th>\n",
       "      <td>77</td>\n",
       "      <td>4000000</td>\n",
       "      <td>3697105</td>\n",
       "      <td>1</td>\n",
       "    </tr>\n",
       "  </tbody>\n",
       "</table>\n",
       "</div>"
      ],
      "text/plain": [
       "           time  user_id  creative_id  click_times\n",
       "100432432    75  4000000      3642395            1\n",
       "100432433    75  4000000      3596158            1\n",
       "100432434    76  4000000       366858            1\n",
       "100432435    76  4000000      3333680            1\n",
       "100432436    77  4000000      3697105            1"
      ]
     },
     "execution_count": 14,
     "metadata": {},
     "output_type": "execute_result"
    }
   ],
   "source": [
    "df.tail()"
   ]
  }
 ],
 "metadata": {
  "kernelspec": {
   "display_name": "conda_python3",
   "language": "python",
   "name": "conda_python3"
  },
  "language_info": {
   "codemirror_mode": {
    "name": "ipython",
    "version": 3
   },
   "file_extension": ".py",
   "mimetype": "text/x-python",
   "name": "python",
   "nbconvert_exporter": "python",
   "pygments_lexer": "ipython3",
   "version": "3.6.5"
  }
 },
 "nbformat": 4,
 "nbformat_minor": 4
}
