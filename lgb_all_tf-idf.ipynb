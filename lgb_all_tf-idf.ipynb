{
 "cells": [
  {
   "cell_type": "code",
   "execution_count": 13,
   "metadata": {},
   "outputs": [
    {
     "name": "stdout",
     "output_type": "stream",
     "text": [
      "Looking in indexes: http://mirrors.tencentyun.com/pypi/simple\n",
      "Requirement already satisfied: keras in /opt/conda/envs/tensorflow2_py3/lib/python3.6/site-packages (2.3.1)\n",
      "Requirement already satisfied: h5py in /opt/conda/envs/tensorflow2_py3/lib/python3.6/site-packages (from keras) (2.10.0)\n",
      "Requirement already satisfied: scipy>=0.14 in /opt/conda/envs/tensorflow2_py3/lib/python3.6/site-packages (from keras) (1.4.1)\n",
      "Requirement already satisfied: pyyaml in /opt/conda/envs/tensorflow2_py3/lib/python3.6/site-packages (from keras) (5.3)\n",
      "Requirement already satisfied: keras-applications>=1.0.6 in /opt/conda/envs/tensorflow2_py3/lib/python3.6/site-packages (from keras) (1.0.8)\n",
      "Requirement already satisfied: six>=1.9.0 in /opt/conda/envs/tensorflow2_py3/lib/python3.6/site-packages (from keras) (1.14.0)\n",
      "Requirement already satisfied: numpy>=1.9.1 in /opt/conda/envs/tensorflow2_py3/lib/python3.6/site-packages (from keras) (1.18.1)\n",
      "Requirement already satisfied: keras-preprocessing>=1.0.5 in /opt/conda/envs/tensorflow2_py3/lib/python3.6/site-packages (from keras) (1.1.0)\n",
      "Looking in indexes: http://mirrors.tencentyun.com/pypi/simple\n",
      "Requirement already satisfied: lightgbm in /opt/conda/envs/tensorflow2_py3/lib/python3.6/site-packages (2.3.1)\n",
      "Requirement already satisfied: scipy in /opt/conda/envs/tensorflow2_py3/lib/python3.6/site-packages (from lightgbm) (1.4.1)\n",
      "Requirement already satisfied: scikit-learn in /opt/conda/envs/tensorflow2_py3/lib/python3.6/site-packages (from lightgbm) (0.22.1)\n",
      "Requirement already satisfied: numpy in /opt/conda/envs/tensorflow2_py3/lib/python3.6/site-packages (from lightgbm) (1.18.1)\n",
      "Requirement already satisfied: joblib>=0.11 in /opt/conda/envs/tensorflow2_py3/lib/python3.6/site-packages (from scikit-learn->lightgbm) (0.14.1)\n"
     ]
    }
   ],
   "source": [
    "!pip install keras\n",
    "!pip install lightgbm"
   ]
  },
  {
   "cell_type": "code",
   "execution_count": 14,
   "metadata": {},
   "outputs": [],
   "source": [
    "import pandas as pd\n",
    "import numpy as np"
   ]
  },
  {
   "cell_type": "code",
   "execution_count": 15,
   "metadata": {},
   "outputs": [],
   "source": [
    "train=pd.read_csv(\"train_all.csv\")\n",
    "test=pd.read_csv(\"test_all.csv\")\n",
    "all=pd.concat([train,test],ignore_index=True)"
   ]
  },
  {
   "cell_type": "code",
   "execution_count": 16,
   "metadata": {},
   "outputs": [],
   "source": [
    "item=all[\"user_items\"].values.tolist()"
   ]
  },
  {
   "cell_type": "code",
   "execution_count": 17,
   "metadata": {},
   "outputs": [],
   "source": [
    "from sklearn.feature_extraction.text import CountVectorizer\n",
    "from sklearn.feature_extraction.text import TfidfTransformer\n",
    "docs = item\n",
    "\n",
    "#该类会将文本中的词语转换为词频矩阵，矩阵元素a[i][j] 表示j词在i类文本下的词频\n",
    "vectorizer = CountVectorizer(max_features=15)\n",
    "#该类会统计每个词语的tf-idf权值\n",
    "tf_idf_transformer = TfidfTransformer()\n",
    "#将文本转为词频矩阵并计算tf-idf\n",
    "tf_idf = tf_idf_transformer.fit_transform(vectorizer.fit_transform(docs))\n",
    "#将tf-idf矩阵抽取出来，元素a[i][j]表示j词在i类文本中的tf-idf权重\n",
    "docs_weight = tf_idf.toarray()\n"
   ]
  },
  {
   "cell_type": "code",
   "execution_count": 18,
   "metadata": {},
   "outputs": [],
   "source": [
    "train_list=docs_weight[0:900000]\n",
    "test_list=docs_weight[900000:1900000]"
   ]
  },
  {
   "cell_type": "code",
   "execution_count": 7,
   "metadata": {},
   "outputs": [],
   "source": [
    "# a=pd.DataFrame(embedding_list)"
   ]
  },
  {
   "cell_type": "code",
   "execution_count": 8,
   "metadata": {},
   "outputs": [],
   "source": [
    "# train.drop([\"user_items\"],axis=1,inplace=True)"
   ]
  },
  {
   "cell_type": "code",
   "execution_count": 9,
   "metadata": {},
   "outputs": [],
   "source": [
    "# train_em=pd.concat([train,a],axis=1)"
   ]
  },
  {
   "cell_type": "code",
   "execution_count": 10,
   "metadata": {},
   "outputs": [],
   "source": [
    "# train_em.to_csv(\"train_em.csv\")"
   ]
  },
  {
   "cell_type": "code",
   "execution_count": 19,
   "metadata": {},
   "outputs": [
    {
     "name": "stdout",
     "output_type": "stream",
     "text": [
      "[1]\tvalid_0's multi_logloss: 2.04493\n",
      "[2]\tvalid_0's multi_logloss: 2.04324\n",
      "[3]\tvalid_0's multi_logloss: 2.0417\n",
      "[4]\tvalid_0's multi_logloss: 2.04035\n",
      "[5]\tvalid_0's multi_logloss: 2.03908\n",
      "[6]\tvalid_0's multi_logloss: 2.03796\n",
      "[7]\tvalid_0's multi_logloss: 2.03692\n",
      "[8]\tvalid_0's multi_logloss: 2.036\n",
      "[9]\tvalid_0's multi_logloss: 2.03512\n",
      "[10]\tvalid_0's multi_logloss: 2.03433\n",
      "[11]\tvalid_0's multi_logloss: 2.03361\n",
      "[12]\tvalid_0's multi_logloss: 2.03293\n",
      "[13]\tvalid_0's multi_logloss: 2.03232\n",
      "[14]\tvalid_0's multi_logloss: 2.03174\n",
      "[15]\tvalid_0's multi_logloss: 2.03124\n",
      "[16]\tvalid_0's multi_logloss: 2.03074\n",
      "[17]\tvalid_0's multi_logloss: 2.03028\n",
      "[18]\tvalid_0's multi_logloss: 2.02983\n",
      "[19]\tvalid_0's multi_logloss: 2.02946\n",
      "[20]\tvalid_0's multi_logloss: 2.02909\n",
      "[21]\tvalid_0's multi_logloss: 2.02877\n",
      "[22]\tvalid_0's multi_logloss: 2.02843\n",
      "[23]\tvalid_0's multi_logloss: 2.02814\n",
      "[24]\tvalid_0's multi_logloss: 2.02784\n",
      "[25]\tvalid_0's multi_logloss: 2.02759\n",
      "[26]\tvalid_0's multi_logloss: 2.02733\n",
      "[27]\tvalid_0's multi_logloss: 2.0271\n",
      "[28]\tvalid_0's multi_logloss: 2.02688\n",
      "[29]\tvalid_0's multi_logloss: 2.02664\n",
      "[30]\tvalid_0's multi_logloss: 2.02643\n",
      "[31]\tvalid_0's multi_logloss: 2.02623\n",
      "[32]\tvalid_0's multi_logloss: 2.02605\n",
      "[33]\tvalid_0's multi_logloss: 2.02586\n",
      "[34]\tvalid_0's multi_logloss: 2.0257\n",
      "[35]\tvalid_0's multi_logloss: 2.02551\n",
      "[36]\tvalid_0's multi_logloss: 2.02536\n",
      "[37]\tvalid_0's multi_logloss: 2.02522\n",
      "[38]\tvalid_0's multi_logloss: 2.0251\n",
      "[39]\tvalid_0's multi_logloss: 2.02497\n",
      "[40]\tvalid_0's multi_logloss: 2.02485\n",
      "[41]\tvalid_0's multi_logloss: 2.02472\n",
      "[42]\tvalid_0's multi_logloss: 2.02461\n",
      "[43]\tvalid_0's multi_logloss: 2.02451\n",
      "[44]\tvalid_0's multi_logloss: 2.02441\n",
      "[45]\tvalid_0's multi_logloss: 2.02432\n",
      "[46]\tvalid_0's multi_logloss: 2.02423\n",
      "[47]\tvalid_0's multi_logloss: 2.02413\n",
      "[48]\tvalid_0's multi_logloss: 2.02406\n",
      "[49]\tvalid_0's multi_logloss: 2.02398\n",
      "[50]\tvalid_0's multi_logloss: 2.02391\n",
      "[51]\tvalid_0's multi_logloss: 2.02384\n",
      "[52]\tvalid_0's multi_logloss: 2.02378\n",
      "[53]\tvalid_0's multi_logloss: 2.02371\n",
      "[54]\tvalid_0's multi_logloss: 2.02364\n",
      "[55]\tvalid_0's multi_logloss: 2.02356\n",
      "[56]\tvalid_0's multi_logloss: 2.02351\n",
      "[57]\tvalid_0's multi_logloss: 2.02346\n",
      "[58]\tvalid_0's multi_logloss: 2.02341\n",
      "[59]\tvalid_0's multi_logloss: 2.02337\n",
      "[60]\tvalid_0's multi_logloss: 2.02331\n",
      "[61]\tvalid_0's multi_logloss: 2.02327\n",
      "[62]\tvalid_0's multi_logloss: 2.02322\n",
      "[63]\tvalid_0's multi_logloss: 2.02318\n",
      "[64]\tvalid_0's multi_logloss: 2.02316\n",
      "[65]\tvalid_0's multi_logloss: 2.02313\n",
      "[66]\tvalid_0's multi_logloss: 2.02308\n",
      "[67]\tvalid_0's multi_logloss: 2.02304\n",
      "[68]\tvalid_0's multi_logloss: 2.02301\n",
      "[69]\tvalid_0's multi_logloss: 2.02299\n",
      "[70]\tvalid_0's multi_logloss: 2.02296\n",
      "[71]\tvalid_0's multi_logloss: 2.02293\n",
      "[72]\tvalid_0's multi_logloss: 2.0229\n",
      "[73]\tvalid_0's multi_logloss: 2.02288\n",
      "[74]\tvalid_0's multi_logloss: 2.02285\n",
      "[75]\tvalid_0's multi_logloss: 2.02281\n",
      "[76]\tvalid_0's multi_logloss: 2.02279\n",
      "[77]\tvalid_0's multi_logloss: 2.02275\n",
      "[78]\tvalid_0's multi_logloss: 2.02273\n",
      "[79]\tvalid_0's multi_logloss: 2.02271\n",
      "[80]\tvalid_0's multi_logloss: 2.0227\n",
      "[81]\tvalid_0's multi_logloss: 2.02267\n",
      "[82]\tvalid_0's multi_logloss: 2.02266\n",
      "[83]\tvalid_0's multi_logloss: 2.02264\n",
      "[84]\tvalid_0's multi_logloss: 2.02262\n",
      "[85]\tvalid_0's multi_logloss: 2.0226\n",
      "[86]\tvalid_0's multi_logloss: 2.02257\n",
      "[87]\tvalid_0's multi_logloss: 2.02256\n",
      "[88]\tvalid_0's multi_logloss: 2.02254\n",
      "[89]\tvalid_0's multi_logloss: 2.02252\n",
      "[90]\tvalid_0's multi_logloss: 2.02251\n",
      "[91]\tvalid_0's multi_logloss: 2.02248\n",
      "[92]\tvalid_0's multi_logloss: 2.02246\n",
      "[93]\tvalid_0's multi_logloss: 2.02246\n",
      "[94]\tvalid_0's multi_logloss: 2.02244\n",
      "[95]\tvalid_0's multi_logloss: 2.02243\n",
      "[96]\tvalid_0's multi_logloss: 2.02242\n",
      "[97]\tvalid_0's multi_logloss: 2.02242\n",
      "[98]\tvalid_0's multi_logloss: 2.02241\n",
      "[99]\tvalid_0's multi_logloss: 2.0224\n",
      "[100]\tvalid_0's multi_logloss: 2.02239\n",
      "0.22507407407407407\n"
     ]
    }
   ],
   "source": [
    "import lightgbm as lgb\n",
    "from sklearn import datasets\n",
    "from sklearn.model_selection import train_test_split\n",
    "target=np.array(train[\"age\"])#年龄建模\n",
    "X_train,X_test,y_train,y_test=train_test_split(train_list,target,test_size=0.03)\n",
    "import numpy as np\n",
    "train_data=lgb.Dataset(X_train,label=y_train)\n",
    "validation_data=lgb.Dataset(X_test,label=y_test)\n",
    "params={\n",
    "    'learning_rate':0.1,\n",
    "    'lambda_l1':0.1,\n",
    "    'lambda_l2':0.2,\n",
    "    'max_depth':4,\n",
    "    'objective':'multiclass',\n",
    "    'num_class':13,  #lightgbm.basic.LightGBMError: b‘Number of classes should be specified and greater than 1 for multiclass training‘\n",
    "}\n",
    "clf=lgb.train(params,train_data,valid_sets=[validation_data])\n",
    "clf.save_model('age_model.txt')\n",
    "from sklearn.metrics import roc_auc_score,accuracy_score\n",
    "y_pred=clf.predict(X_test)\n",
    "y_pred=[list(x).index(max(x)) for x in y_pred]\n",
    "# print(y_pred)\n",
    "print(accuracy_score(y_test,y_pred))"
   ]
  },
  {
   "cell_type": "code",
   "execution_count": 20,
   "metadata": {},
   "outputs": [
    {
     "name": "stdout",
     "output_type": "stream",
     "text": [
      "[1]\tvalid_0's multi_logloss: 0.631911\n",
      "[2]\tvalid_0's multi_logloss: 0.627055\n",
      "[3]\tvalid_0's multi_logloss: 0.622887\n",
      "[4]\tvalid_0's multi_logloss: 0.619309\n",
      "[5]\tvalid_0's multi_logloss: 0.61615\n",
      "[6]\tvalid_0's multi_logloss: 0.613353\n",
      "[7]\tvalid_0's multi_logloss: 0.610933\n",
      "[8]\tvalid_0's multi_logloss: 0.608796\n",
      "[9]\tvalid_0's multi_logloss: 0.606922\n",
      "[10]\tvalid_0's multi_logloss: 0.605281\n",
      "[11]\tvalid_0's multi_logloss: 0.603777\n",
      "[12]\tvalid_0's multi_logloss: 0.602376\n",
      "[13]\tvalid_0's multi_logloss: 0.601114\n",
      "[14]\tvalid_0's multi_logloss: 0.599974\n",
      "[15]\tvalid_0's multi_logloss: 0.598964\n",
      "[16]\tvalid_0's multi_logloss: 0.598009\n",
      "[17]\tvalid_0's multi_logloss: 0.597204\n",
      "[18]\tvalid_0's multi_logloss: 0.596411\n",
      "[19]\tvalid_0's multi_logloss: 0.59572\n",
      "[20]\tvalid_0's multi_logloss: 0.595082\n",
      "[21]\tvalid_0's multi_logloss: 0.594504\n",
      "[22]\tvalid_0's multi_logloss: 0.593984\n",
      "[23]\tvalid_0's multi_logloss: 0.593498\n",
      "[24]\tvalid_0's multi_logloss: 0.593055\n",
      "[25]\tvalid_0's multi_logloss: 0.592638\n",
      "[26]\tvalid_0's multi_logloss: 0.592263\n",
      "[27]\tvalid_0's multi_logloss: 0.591909\n",
      "[28]\tvalid_0's multi_logloss: 0.591578\n",
      "[29]\tvalid_0's multi_logloss: 0.591284\n",
      "[30]\tvalid_0's multi_logloss: 0.590984\n",
      "[31]\tvalid_0's multi_logloss: 0.590741\n",
      "[32]\tvalid_0's multi_logloss: 0.590521\n",
      "[33]\tvalid_0's multi_logloss: 0.590296\n",
      "[34]\tvalid_0's multi_logloss: 0.590091\n",
      "[35]\tvalid_0's multi_logloss: 0.589928\n",
      "[36]\tvalid_0's multi_logloss: 0.589761\n",
      "[37]\tvalid_0's multi_logloss: 0.58961\n",
      "[38]\tvalid_0's multi_logloss: 0.589471\n",
      "[39]\tvalid_0's multi_logloss: 0.589335\n",
      "[40]\tvalid_0's multi_logloss: 0.589219\n",
      "[41]\tvalid_0's multi_logloss: 0.589101\n",
      "[42]\tvalid_0's multi_logloss: 0.589001\n",
      "[43]\tvalid_0's multi_logloss: 0.588913\n",
      "[44]\tvalid_0's multi_logloss: 0.588824\n",
      "[45]\tvalid_0's multi_logloss: 0.588738\n",
      "[46]\tvalid_0's multi_logloss: 0.588671\n",
      "[47]\tvalid_0's multi_logloss: 0.588593\n",
      "[48]\tvalid_0's multi_logloss: 0.588515\n",
      "[49]\tvalid_0's multi_logloss: 0.588437\n",
      "[50]\tvalid_0's multi_logloss: 0.588396\n",
      "[51]\tvalid_0's multi_logloss: 0.588344\n",
      "[52]\tvalid_0's multi_logloss: 0.588283\n",
      "[53]\tvalid_0's multi_logloss: 0.588249\n",
      "[54]\tvalid_0's multi_logloss: 0.588198\n",
      "[55]\tvalid_0's multi_logloss: 0.588151\n",
      "[56]\tvalid_0's multi_logloss: 0.588117\n",
      "[57]\tvalid_0's multi_logloss: 0.588076\n",
      "[58]\tvalid_0's multi_logloss: 0.588026\n",
      "[59]\tvalid_0's multi_logloss: 0.587984\n",
      "[60]\tvalid_0's multi_logloss: 0.587948\n",
      "[61]\tvalid_0's multi_logloss: 0.587929\n",
      "[62]\tvalid_0's multi_logloss: 0.587897\n",
      "[63]\tvalid_0's multi_logloss: 0.587877\n",
      "[64]\tvalid_0's multi_logloss: 0.587846\n",
      "[65]\tvalid_0's multi_logloss: 0.587815\n",
      "[66]\tvalid_0's multi_logloss: 0.587786\n",
      "[67]\tvalid_0's multi_logloss: 0.58776\n",
      "[68]\tvalid_0's multi_logloss: 0.587743\n",
      "[69]\tvalid_0's multi_logloss: 0.587726\n",
      "[70]\tvalid_0's multi_logloss: 0.587698\n",
      "[71]\tvalid_0's multi_logloss: 0.587675\n",
      "[72]\tvalid_0's multi_logloss: 0.587662\n",
      "[73]\tvalid_0's multi_logloss: 0.587643\n",
      "[74]\tvalid_0's multi_logloss: 0.587622\n",
      "[75]\tvalid_0's multi_logloss: 0.587618\n",
      "[76]\tvalid_0's multi_logloss: 0.587601\n",
      "[77]\tvalid_0's multi_logloss: 0.587577\n",
      "[78]\tvalid_0's multi_logloss: 0.587564\n",
      "[79]\tvalid_0's multi_logloss: 0.587551\n",
      "[80]\tvalid_0's multi_logloss: 0.587537\n",
      "[81]\tvalid_0's multi_logloss: 0.587524\n",
      "[82]\tvalid_0's multi_logloss: 0.587517\n",
      "[83]\tvalid_0's multi_logloss: 0.587516\n",
      "[84]\tvalid_0's multi_logloss: 0.587501\n",
      "[85]\tvalid_0's multi_logloss: 0.587502\n",
      "[86]\tvalid_0's multi_logloss: 0.587492\n",
      "[87]\tvalid_0's multi_logloss: 0.587486\n",
      "[88]\tvalid_0's multi_logloss: 0.587482\n",
      "[89]\tvalid_0's multi_logloss: 0.587471\n",
      "[90]\tvalid_0's multi_logloss: 0.587468\n",
      "[91]\tvalid_0's multi_logloss: 0.587457\n",
      "[92]\tvalid_0's multi_logloss: 0.587455\n",
      "[93]\tvalid_0's multi_logloss: 0.58745\n",
      "[94]\tvalid_0's multi_logloss: 0.587444\n",
      "[95]\tvalid_0's multi_logloss: 0.587443\n",
      "[96]\tvalid_0's multi_logloss: 0.587436\n",
      "[97]\tvalid_0's multi_logloss: 0.587433\n",
      "[98]\tvalid_0's multi_logloss: 0.587428\n",
      "[99]\tvalid_0's multi_logloss: 0.58743\n",
      "[100]\tvalid_0's multi_logloss: 0.587427\n",
      "0.6742777777777778\n"
     ]
    }
   ],
   "source": [
    "import lightgbm as lgb\n",
    "from sklearn import datasets\n",
    "from sklearn.model_selection import train_test_split\n",
    "target=np.array(train[\"gender\"])#性别建模\n",
    "X_train,X_test,y_train,y_test=train_test_split(train_list,target,test_size=0.04)\n",
    "import numpy as np\n",
    "train_data=lgb.Dataset(X_train,label=y_train)\n",
    "validation_data=lgb.Dataset(X_test,label=y_test)\n",
    "params={\n",
    "    'learning_rate':0.1,\n",
    "    'lambda_l1':0.1,\n",
    "    'lambda_l2':0.2,\n",
    "    'max_depth':4,\n",
    "    'objective':'multiclass',\n",
    "    'num_class':4,  #lightgbm.basic.LightGBMError: b‘Number of classes should be specified and greater than 1 for multiclass training‘\n",
    "}\n",
    "\n",
    "clf=lgb.train(params,train_data,valid_sets=[validation_data])\n",
    "clf.save_model('gender_model.txt')\n",
    "from sklearn.metrics import roc_auc_score,accuracy_score\n",
    "y_pred=clf.predict(X_test)\n",
    "y_pred=[list(x).index(max(x)) for x in y_pred]\n",
    "# print(y_pred)\n",
    "print(accuracy_score(y_test,y_pred))"
   ]
  },
  {
   "cell_type": "code",
   "execution_count": 21,
   "metadata": {},
   "outputs": [],
   "source": [
    "import lightgbm as lgb\n",
    "# 模型加载\n",
    "gbm = lgb.Booster(model_file='age_model.txt')\n",
    "# 模型预测\n",
    "age_pred = gbm.predict(test_list)\n",
    "age_pred=[list(x).index(max(x)) for x in age_pred]"
   ]
  },
  {
   "cell_type": "code",
   "execution_count": 22,
   "metadata": {},
   "outputs": [],
   "source": [
    "import lightgbm as lgb\n",
    "# 模型加载\n",
    "gbm = lgb.Booster(model_file='gender_model.txt')\n",
    "# 模型预测\n",
    "gender_pred = gbm.predict(test_list, num_iteration=gbm.best_iteration)\n",
    "gender_pred=[list(x).index(max(x)) for x in gender_pred]"
   ]
  },
  {
   "cell_type": "code",
   "execution_count": 23,
   "metadata": {},
   "outputs": [],
   "source": [
    "submission=pd.DataFrame(test[\"user_id\"])"
   ]
  },
  {
   "cell_type": "code",
   "execution_count": 24,
   "metadata": {},
   "outputs": [],
   "source": [
    "submission[\"predicted_age\"]=age_pred\n",
    "submission[\"predicted_gender\"]=gender_pred"
   ]
  },
  {
   "cell_type": "code",
   "execution_count": 25,
   "metadata": {},
   "outputs": [],
   "source": [
    "submission.to_csv(\"submission_tf-idf.csv\",index=False)"
   ]
  },
  {
   "cell_type": "code",
   "execution_count": null,
   "metadata": {},
   "outputs": [],
   "source": [
    "submission"
   ]
  },
  {
   "cell_type": "code",
   "execution_count": null,
   "metadata": {},
   "outputs": [],
   "source": []
  }
 ],
 "metadata": {
  "kernelspec": {
   "display_name": "conda_tensorflow2_py3",
   "language": "python",
   "name": "conda_tensorflow2_py3"
  },
  "language_info": {
   "codemirror_mode": {
    "name": "ipython",
    "version": 3
   },
   "file_extension": ".py",
   "mimetype": "text/x-python",
   "name": "python",
   "nbconvert_exporter": "python",
   "pygments_lexer": "ipython3",
   "version": "3.6.5"
  }
 },
 "nbformat": 4,
 "nbformat_minor": 4
}
