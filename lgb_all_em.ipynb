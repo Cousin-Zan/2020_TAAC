{
 "cells": [
  {
   "cell_type": "code",
   "execution_count": 1,
   "metadata": {},
   "outputs": [
    {
     "name": "stdout",
     "output_type": "stream",
     "text": [
      "Looking in indexes: http://mirrors.tencentyun.com/pypi/simple\n",
      "Requirement already satisfied: keras in /opt/conda/envs/tensorflow2_py3/lib/python3.6/site-packages (2.3.1)\n",
      "Requirement already satisfied: scipy>=0.14 in /opt/conda/envs/tensorflow2_py3/lib/python3.6/site-packages (from keras) (1.4.1)\n",
      "Requirement already satisfied: pyyaml in /opt/conda/envs/tensorflow2_py3/lib/python3.6/site-packages (from keras) (5.3)\n",
      "Requirement already satisfied: numpy>=1.9.1 in /opt/conda/envs/tensorflow2_py3/lib/python3.6/site-packages (from keras) (1.18.1)\n",
      "Requirement already satisfied: six>=1.9.0 in /opt/conda/envs/tensorflow2_py3/lib/python3.6/site-packages (from keras) (1.14.0)\n",
      "Requirement already satisfied: keras-applications>=1.0.6 in /opt/conda/envs/tensorflow2_py3/lib/python3.6/site-packages (from keras) (1.0.8)\n",
      "Requirement already satisfied: h5py in /opt/conda/envs/tensorflow2_py3/lib/python3.6/site-packages (from keras) (2.10.0)\n",
      "Requirement already satisfied: keras-preprocessing>=1.0.5 in /opt/conda/envs/tensorflow2_py3/lib/python3.6/site-packages (from keras) (1.1.0)\n",
      "Looking in indexes: http://mirrors.tencentyun.com/pypi/simple\n",
      "Requirement already satisfied: lightgbm in /opt/conda/envs/tensorflow2_py3/lib/python3.6/site-packages (2.3.1)\n",
      "Requirement already satisfied: numpy in /opt/conda/envs/tensorflow2_py3/lib/python3.6/site-packages (from lightgbm) (1.18.1)\n",
      "Requirement already satisfied: scipy in /opt/conda/envs/tensorflow2_py3/lib/python3.6/site-packages (from lightgbm) (1.4.1)\n",
      "Requirement already satisfied: scikit-learn in /opt/conda/envs/tensorflow2_py3/lib/python3.6/site-packages (from lightgbm) (0.22.1)\n",
      "Requirement already satisfied: joblib>=0.11 in /opt/conda/envs/tensorflow2_py3/lib/python3.6/site-packages (from scikit-learn->lightgbm) (0.14.1)\n"
     ]
    }
   ],
   "source": [
    "!pip install keras\n",
    "!pip install lightgbm"
   ]
  },
  {
   "cell_type": "code",
   "execution_count": 2,
   "metadata": {},
   "outputs": [],
   "source": [
    "import pandas as pd\n",
    "import numpy as np"
   ]
  },
  {
   "cell_type": "code",
   "execution_count": 3,
   "metadata": {},
   "outputs": [],
   "source": [
    "train=pd.read_csv(\"train_all.csv\")\n",
    "test=pd.read_csv(\"test_all.csv\")\n",
    "all=pd.concat([train,test],ignore_index=True)"
   ]
  },
  {
   "cell_type": "code",
   "execution_count": 4,
   "metadata": {},
   "outputs": [],
   "source": [
    "item=all[\"user_items\"].values.tolist()"
   ]
  },
  {
   "cell_type": "code",
   "execution_count": 5,
   "metadata": {},
   "outputs": [
    {
     "name": "stderr",
     "output_type": "stream",
     "text": [
      "Using TensorFlow backend.\n"
     ]
    }
   ],
   "source": [
    "from keras.preprocessing.text import Tokenizer\n",
    "from keras.preprocessing.sequence import pad_sequences\n",
    "from keras.models import Sequential\n",
    "from keras.layers import Embedding, Flatten, Dense\n",
    "docs = item\n",
    "\n",
    "# 只考虑最常见的词\n",
    "max_words = 3000\n",
    "# 统一的序列化长度\n",
    "# 大于这个长度截断，小于这个长度用0补全\n",
    "maxlen = 20\n",
    "# 嵌入的维度\n",
    "embedding_dim = 64\n",
    "\n",
    "# 分词\n",
    "tokenizer = Tokenizer(num_words=max_words)\n",
    "tokenizer.fit_on_texts(docs)\n",
    "# 字典\n",
    "word_index = tokenizer.word_index\n",
    "\n",
    "# 序列化\n",
    "sequences = tokenizer.texts_to_sequences(docs)\n",
    "# 统一序列长度\n",
    "data = pad_sequences(sequences, maxlen=maxlen)\n",
    "\n",
    "# Embedding模型\n",
    "model = Sequential()\n",
    "# Embedding至少需要max_wrods和embedding_dim两个参数\n",
    "model.add(Embedding(max_words, embedding_dim, input_length=maxlen, name='embedding'))\n",
    "model.compile('rmsprop', 'mse')\n",
    "\n",
    "out = model.predict(data)\n",
    "# print(out)\n",
    "# print(out.shape)\n",
    "# # 查看权重\n",
    "# layer = model.get_layer('embedding')\n",
    "# print(layer.get_weights())\n",
    "\n",
    "embedding_list=[]\n",
    "for i in out:\n",
    "    temp=sum(i)/10\n",
    "    temp=temp.tolist()\n",
    "    embedding_list.append(temp)"
   ]
  },
  {
   "cell_type": "code",
   "execution_count": 6,
   "metadata": {},
   "outputs": [],
   "source": [
    "train_list=embedding_list[0:900000]\n",
    "test_list=embedding_list[900000:1900000]"
   ]
  },
  {
   "cell_type": "code",
   "execution_count": 7,
   "metadata": {},
   "outputs": [],
   "source": [
    "# a=pd.DataFrame(embedding_list)"
   ]
  },
  {
   "cell_type": "code",
   "execution_count": 8,
   "metadata": {},
   "outputs": [],
   "source": [
    "# train.drop([\"user_items\"],axis=1,inplace=True)"
   ]
  },
  {
   "cell_type": "code",
   "execution_count": 9,
   "metadata": {},
   "outputs": [],
   "source": [
    "# train_em=pd.concat([train,a],axis=1)"
   ]
  },
  {
   "cell_type": "code",
   "execution_count": 10,
   "metadata": {},
   "outputs": [],
   "source": [
    "# train_em.to_csv(\"train_em.csv\")"
   ]
  },
  {
   "cell_type": "code",
   "execution_count": 11,
   "metadata": {},
   "outputs": [
    {
     "name": "stdout",
     "output_type": "stream",
     "text": [
      "[1]\tvalid_0's multi_logloss: 2.03845\n",
      "[2]\tvalid_0's multi_logloss: 2.03763\n",
      "[3]\tvalid_0's multi_logloss: 2.0369\n",
      "[4]\tvalid_0's multi_logloss: 2.03621\n",
      "[5]\tvalid_0's multi_logloss: 2.03548\n",
      "[6]\tvalid_0's multi_logloss: 2.03487\n",
      "[7]\tvalid_0's multi_logloss: 2.03425\n",
      "[8]\tvalid_0's multi_logloss: 2.03366\n",
      "[9]\tvalid_0's multi_logloss: 2.03302\n",
      "[10]\tvalid_0's multi_logloss: 2.03244\n",
      "[11]\tvalid_0's multi_logloss: 2.0319\n",
      "[12]\tvalid_0's multi_logloss: 2.03136\n",
      "[13]\tvalid_0's multi_logloss: 2.03087\n",
      "[14]\tvalid_0's multi_logloss: 2.03035\n",
      "[15]\tvalid_0's multi_logloss: 2.02986\n",
      "[16]\tvalid_0's multi_logloss: 2.02938\n",
      "[17]\tvalid_0's multi_logloss: 2.02891\n",
      "[18]\tvalid_0's multi_logloss: 2.02847\n",
      "[19]\tvalid_0's multi_logloss: 2.02803\n",
      "[20]\tvalid_0's multi_logloss: 2.0276\n",
      "[21]\tvalid_0's multi_logloss: 2.0272\n",
      "[22]\tvalid_0's multi_logloss: 2.02682\n",
      "[23]\tvalid_0's multi_logloss: 2.02639\n",
      "[24]\tvalid_0's multi_logloss: 2.02602\n",
      "[25]\tvalid_0's multi_logloss: 2.02563\n",
      "[26]\tvalid_0's multi_logloss: 2.02525\n",
      "[27]\tvalid_0's multi_logloss: 2.02493\n",
      "[28]\tvalid_0's multi_logloss: 2.0246\n",
      "[29]\tvalid_0's multi_logloss: 2.02428\n",
      "[30]\tvalid_0's multi_logloss: 2.02395\n",
      "[31]\tvalid_0's multi_logloss: 2.02356\n",
      "[32]\tvalid_0's multi_logloss: 2.0232\n",
      "[33]\tvalid_0's multi_logloss: 2.02288\n",
      "[34]\tvalid_0's multi_logloss: 2.02252\n",
      "[35]\tvalid_0's multi_logloss: 2.02222\n",
      "[36]\tvalid_0's multi_logloss: 2.0219\n",
      "[37]\tvalid_0's multi_logloss: 2.02164\n",
      "[38]\tvalid_0's multi_logloss: 2.02134\n",
      "[39]\tvalid_0's multi_logloss: 2.02105\n",
      "[40]\tvalid_0's multi_logloss: 2.02077\n",
      "[41]\tvalid_0's multi_logloss: 2.02047\n",
      "[42]\tvalid_0's multi_logloss: 2.02017\n",
      "[43]\tvalid_0's multi_logloss: 2.0199\n",
      "[44]\tvalid_0's multi_logloss: 2.01965\n",
      "[45]\tvalid_0's multi_logloss: 2.01936\n",
      "[46]\tvalid_0's multi_logloss: 2.01903\n",
      "[47]\tvalid_0's multi_logloss: 2.01878\n",
      "[48]\tvalid_0's multi_logloss: 2.01851\n",
      "[49]\tvalid_0's multi_logloss: 2.0183\n",
      "[50]\tvalid_0's multi_logloss: 2.0181\n",
      "[51]\tvalid_0's multi_logloss: 2.01786\n",
      "[52]\tvalid_0's multi_logloss: 2.01765\n",
      "[53]\tvalid_0's multi_logloss: 2.01743\n",
      "[54]\tvalid_0's multi_logloss: 2.01724\n",
      "[55]\tvalid_0's multi_logloss: 2.01698\n",
      "[56]\tvalid_0's multi_logloss: 2.01671\n",
      "[57]\tvalid_0's multi_logloss: 2.01647\n",
      "[58]\tvalid_0's multi_logloss: 2.0163\n",
      "[59]\tvalid_0's multi_logloss: 2.01611\n",
      "[60]\tvalid_0's multi_logloss: 2.0159\n",
      "[61]\tvalid_0's multi_logloss: 2.01565\n",
      "[62]\tvalid_0's multi_logloss: 2.01545\n",
      "[63]\tvalid_0's multi_logloss: 2.01525\n",
      "[64]\tvalid_0's multi_logloss: 2.01506\n",
      "[65]\tvalid_0's multi_logloss: 2.01487\n",
      "[66]\tvalid_0's multi_logloss: 2.01465\n",
      "[67]\tvalid_0's multi_logloss: 2.01441\n",
      "[68]\tvalid_0's multi_logloss: 2.01424\n",
      "[69]\tvalid_0's multi_logloss: 2.01404\n",
      "[70]\tvalid_0's multi_logloss: 2.01393\n",
      "[71]\tvalid_0's multi_logloss: 2.01377\n",
      "[72]\tvalid_0's multi_logloss: 2.01355\n",
      "[73]\tvalid_0's multi_logloss: 2.01335\n",
      "[74]\tvalid_0's multi_logloss: 2.01319\n",
      "[75]\tvalid_0's multi_logloss: 2.01301\n",
      "[76]\tvalid_0's multi_logloss: 2.01282\n",
      "[77]\tvalid_0's multi_logloss: 2.01262\n",
      "[78]\tvalid_0's multi_logloss: 2.01241\n",
      "[79]\tvalid_0's multi_logloss: 2.01225\n",
      "[80]\tvalid_0's multi_logloss: 2.01211\n",
      "[81]\tvalid_0's multi_logloss: 2.0119\n",
      "[82]\tvalid_0's multi_logloss: 2.01174\n",
      "[83]\tvalid_0's multi_logloss: 2.0116\n",
      "[84]\tvalid_0's multi_logloss: 2.01144\n",
      "[85]\tvalid_0's multi_logloss: 2.01127\n",
      "[86]\tvalid_0's multi_logloss: 2.01105\n",
      "[87]\tvalid_0's multi_logloss: 2.01087\n",
      "[88]\tvalid_0's multi_logloss: 2.01073\n",
      "[89]\tvalid_0's multi_logloss: 2.01057\n",
      "[90]\tvalid_0's multi_logloss: 2.0104\n",
      "[91]\tvalid_0's multi_logloss: 2.01022\n",
      "[92]\tvalid_0's multi_logloss: 2.01005\n",
      "[93]\tvalid_0's multi_logloss: 2.0099\n",
      "[94]\tvalid_0's multi_logloss: 2.00977\n",
      "[95]\tvalid_0's multi_logloss: 2.00965\n",
      "[96]\tvalid_0's multi_logloss: 2.00952\n",
      "[97]\tvalid_0's multi_logloss: 2.00939\n",
      "[98]\tvalid_0's multi_logloss: 2.00924\n",
      "[99]\tvalid_0's multi_logloss: 2.00908\n",
      "[100]\tvalid_0's multi_logloss: 2.00891\n",
      "0.224\n"
     ]
    }
   ],
   "source": [
    "import lightgbm as lgb\n",
    "from sklearn import datasets\n",
    "from sklearn.model_selection import train_test_split\n",
    "target=np.array(train[\"age\"])#年龄建模\n",
    "X_train,X_test,y_train,y_test=train_test_split(train_list,target,test_size=0.03)\n",
    "import numpy as np\n",
    "train_data=lgb.Dataset(X_train,label=y_train)\n",
    "validation_data=lgb.Dataset(X_test,label=y_test)\n",
    "params={\n",
    "    'learning_rate':0.1,\n",
    "    'lambda_l1':0.1,\n",
    "    'lambda_l2':0.2,\n",
    "    'max_depth':4,\n",
    "    'objective':'multiclass',\n",
    "    'num_class':13,  #lightgbm.basic.LightGBMError: b‘Number of classes should be specified and greater than 1 for multiclass training‘\n",
    "}\n",
    "clf=lgb.train(params,train_data,valid_sets=[validation_data])\n",
    "clf.save_model('age_model.txt')\n",
    "from sklearn.metrics import roc_auc_score,accuracy_score\n",
    "y_pred=clf.predict(X_test)\n",
    "y_pred=[list(x).index(max(x)) for x in y_pred]\n",
    "# print(y_pred)\n",
    "print(accuracy_score(y_test,y_pred))"
   ]
  },
  {
   "cell_type": "code",
   "execution_count": 12,
   "metadata": {},
   "outputs": [
    {
     "name": "stdout",
     "output_type": "stream",
     "text": [
      "[1]\tvalid_0's multi_logloss: 0.631233\n",
      "[2]\tvalid_0's multi_logloss: 0.629418\n",
      "[3]\tvalid_0's multi_logloss: 0.627836\n",
      "[4]\tvalid_0's multi_logloss: 0.626366\n",
      "[5]\tvalid_0's multi_logloss: 0.625129\n",
      "[6]\tvalid_0's multi_logloss: 0.623899\n",
      "[7]\tvalid_0's multi_logloss: 0.622739\n",
      "[8]\tvalid_0's multi_logloss: 0.621654\n",
      "[9]\tvalid_0's multi_logloss: 0.620745\n",
      "[10]\tvalid_0's multi_logloss: 0.619826\n",
      "[11]\tvalid_0's multi_logloss: 0.618807\n",
      "[12]\tvalid_0's multi_logloss: 0.618143\n",
      "[13]\tvalid_0's multi_logloss: 0.617435\n",
      "[14]\tvalid_0's multi_logloss: 0.616738\n",
      "[15]\tvalid_0's multi_logloss: 0.616165\n",
      "[16]\tvalid_0's multi_logloss: 0.615419\n",
      "[17]\tvalid_0's multi_logloss: 0.6148\n",
      "[18]\tvalid_0's multi_logloss: 0.614284\n",
      "[19]\tvalid_0's multi_logloss: 0.613591\n",
      "[20]\tvalid_0's multi_logloss: 0.612946\n",
      "[21]\tvalid_0's multi_logloss: 0.612507\n",
      "[22]\tvalid_0's multi_logloss: 0.611883\n",
      "[23]\tvalid_0's multi_logloss: 0.611442\n",
      "[24]\tvalid_0's multi_logloss: 0.610879\n",
      "[25]\tvalid_0's multi_logloss: 0.610499\n",
      "[26]\tvalid_0's multi_logloss: 0.610014\n",
      "[27]\tvalid_0's multi_logloss: 0.60951\n",
      "[28]\tvalid_0's multi_logloss: 0.609025\n",
      "[29]\tvalid_0's multi_logloss: 0.608568\n",
      "[30]\tvalid_0's multi_logloss: 0.608103\n",
      "[31]\tvalid_0's multi_logloss: 0.607824\n",
      "[32]\tvalid_0's multi_logloss: 0.607436\n",
      "[33]\tvalid_0's multi_logloss: 0.607025\n",
      "[34]\tvalid_0's multi_logloss: 0.606672\n",
      "[35]\tvalid_0's multi_logloss: 0.606223\n",
      "[36]\tvalid_0's multi_logloss: 0.605894\n",
      "[37]\tvalid_0's multi_logloss: 0.605428\n",
      "[38]\tvalid_0's multi_logloss: 0.605098\n",
      "[39]\tvalid_0's multi_logloss: 0.604669\n",
      "[40]\tvalid_0's multi_logloss: 0.604287\n",
      "[41]\tvalid_0's multi_logloss: 0.603886\n",
      "[42]\tvalid_0's multi_logloss: 0.603529\n",
      "[43]\tvalid_0's multi_logloss: 0.603264\n",
      "[44]\tvalid_0's multi_logloss: 0.602922\n",
      "[45]\tvalid_0's multi_logloss: 0.60271\n",
      "[46]\tvalid_0's multi_logloss: 0.60241\n",
      "[47]\tvalid_0's multi_logloss: 0.602022\n",
      "[48]\tvalid_0's multi_logloss: 0.601793\n",
      "[49]\tvalid_0's multi_logloss: 0.601503\n",
      "[50]\tvalid_0's multi_logloss: 0.601079\n",
      "[51]\tvalid_0's multi_logloss: 0.600725\n",
      "[52]\tvalid_0's multi_logloss: 0.600494\n",
      "[53]\tvalid_0's multi_logloss: 0.600214\n",
      "[54]\tvalid_0's multi_logloss: 0.599938\n",
      "[55]\tvalid_0's multi_logloss: 0.599685\n",
      "[56]\tvalid_0's multi_logloss: 0.599405\n",
      "[57]\tvalid_0's multi_logloss: 0.599163\n",
      "[58]\tvalid_0's multi_logloss: 0.59892\n",
      "[59]\tvalid_0's multi_logloss: 0.598737\n",
      "[60]\tvalid_0's multi_logloss: 0.598335\n",
      "[61]\tvalid_0's multi_logloss: 0.598158\n",
      "[62]\tvalid_0's multi_logloss: 0.597864\n",
      "[63]\tvalid_0's multi_logloss: 0.597559\n",
      "[64]\tvalid_0's multi_logloss: 0.59721\n",
      "[65]\tvalid_0's multi_logloss: 0.596914\n",
      "[66]\tvalid_0's multi_logloss: 0.596723\n",
      "[67]\tvalid_0's multi_logloss: 0.596552\n",
      "[68]\tvalid_0's multi_logloss: 0.59638\n",
      "[69]\tvalid_0's multi_logloss: 0.596224\n",
      "[70]\tvalid_0's multi_logloss: 0.596001\n",
      "[71]\tvalid_0's multi_logloss: 0.595728\n",
      "[72]\tvalid_0's multi_logloss: 0.595491\n",
      "[73]\tvalid_0's multi_logloss: 0.59532\n",
      "[74]\tvalid_0's multi_logloss: 0.595094\n",
      "[75]\tvalid_0's multi_logloss: 0.594873\n",
      "[76]\tvalid_0's multi_logloss: 0.594741\n",
      "[77]\tvalid_0's multi_logloss: 0.594604\n",
      "[78]\tvalid_0's multi_logloss: 0.594324\n",
      "[79]\tvalid_0's multi_logloss: 0.594148\n",
      "[80]\tvalid_0's multi_logloss: 0.593934\n",
      "[81]\tvalid_0's multi_logloss: 0.593689\n",
      "[82]\tvalid_0's multi_logloss: 0.593454\n",
      "[83]\tvalid_0's multi_logloss: 0.593312\n",
      "[84]\tvalid_0's multi_logloss: 0.593133\n",
      "[85]\tvalid_0's multi_logloss: 0.592909\n",
      "[86]\tvalid_0's multi_logloss: 0.592793\n",
      "[87]\tvalid_0's multi_logloss: 0.59266\n",
      "[88]\tvalid_0's multi_logloss: 0.592378\n",
      "[89]\tvalid_0's multi_logloss: 0.592164\n",
      "[90]\tvalid_0's multi_logloss: 0.592006\n",
      "[91]\tvalid_0's multi_logloss: 0.591851\n",
      "[92]\tvalid_0's multi_logloss: 0.591726\n",
      "[93]\tvalid_0's multi_logloss: 0.591556\n",
      "[94]\tvalid_0's multi_logloss: 0.591359\n",
      "[95]\tvalid_0's multi_logloss: 0.591211\n",
      "[96]\tvalid_0's multi_logloss: 0.591112\n",
      "[97]\tvalid_0's multi_logloss: 0.590965\n",
      "[98]\tvalid_0's multi_logloss: 0.59082\n",
      "[99]\tvalid_0's multi_logloss: 0.590668\n",
      "[100]\tvalid_0's multi_logloss: 0.590514\n",
      "0.6905277777777777\n"
     ]
    }
   ],
   "source": [
    "import lightgbm as lgb\n",
    "from sklearn import datasets\n",
    "from sklearn.model_selection import train_test_split\n",
    "target=np.array(train[\"gender\"])#性别建模\n",
    "X_train,X_test,y_train,y_test=train_test_split(train_list,target,test_size=0.04)\n",
    "import numpy as np\n",
    "train_data=lgb.Dataset(X_train,label=y_train)\n",
    "validation_data=lgb.Dataset(X_test,label=y_test)\n",
    "params={\n",
    "    'learning_rate':0.1,\n",
    "    'lambda_l1':0.1,\n",
    "    'lambda_l2':0.2,\n",
    "    'max_depth':4,\n",
    "    'objective':'multiclass',\n",
    "    'num_class':4,  #lightgbm.basic.LightGBMError: b‘Number of classes should be specified and greater than 1 for multiclass training‘\n",
    "}\n",
    "\n",
    "clf=lgb.train(params,train_data,valid_sets=[validation_data])\n",
    "clf.save_model('gender_model.txt')\n",
    "from sklearn.metrics import roc_auc_score,accuracy_score\n",
    "y_pred=clf.predict(X_test)\n",
    "y_pred=[list(x).index(max(x)) for x in y_pred]\n",
    "# print(y_pred)\n",
    "print(accuracy_score(y_test,y_pred))"
   ]
  },
  {
   "cell_type": "code",
   "execution_count": 13,
   "metadata": {},
   "outputs": [],
   "source": [
    "import lightgbm as lgb\n",
    "# 模型加载\n",
    "gbm = lgb.Booster(model_file='age_model.txt')\n",
    "# 模型预测\n",
    "age_pred = gbm.predict(test_list)\n",
    "age_pred=[list(x).index(max(x)) for x in age_pred]"
   ]
  },
  {
   "cell_type": "code",
   "execution_count": 14,
   "metadata": {},
   "outputs": [],
   "source": [
    "import lightgbm as lgb\n",
    "# 模型加载\n",
    "gbm = lgb.Booster(model_file='gender_model.txt')\n",
    "# 模型预测\n",
    "gender_pred = gbm.predict(test_list, num_iteration=gbm.best_iteration)\n",
    "gender_pred=[list(x).index(max(x)) for x in gender_pred]"
   ]
  },
  {
   "cell_type": "code",
   "execution_count": 15,
   "metadata": {},
   "outputs": [],
   "source": [
    "submission=pd.DataFrame(test[\"user_id\"])"
   ]
  },
  {
   "cell_type": "code",
   "execution_count": 16,
   "metadata": {},
   "outputs": [],
   "source": [
    "submission[\"predicted_age\"]=age_pred\n",
    "submission[\"predicted_gender\"]=gender_pred"
   ]
  },
  {
   "cell_type": "code",
   "execution_count": null,
   "metadata": {},
   "outputs": [],
   "source": [
    "submission.to_csv(\"submission_5 29.csv\",index=False)"
   ]
  },
  {
   "cell_type": "code",
   "execution_count": null,
   "metadata": {},
   "outputs": [],
   "source": [
    "submission"
   ]
  }
 ],
 "metadata": {
  "kernelspec": {
   "display_name": "conda_tensorflow2_py3",
   "language": "python",
   "name": "conda_tensorflow2_py3"
  },
  "language_info": {
   "codemirror_mode": {
    "name": "ipython",
    "version": 3
   },
   "file_extension": ".py",
   "mimetype": "text/x-python",
   "name": "python",
   "nbconvert_exporter": "python",
   "pygments_lexer": "ipython3",
   "version": "3.6.5"
  }
 },
 "nbformat": 4,
 "nbformat_minor": 4
}
