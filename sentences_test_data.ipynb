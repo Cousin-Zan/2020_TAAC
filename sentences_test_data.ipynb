{
 "cells": [
  {
   "cell_type": "code",
   "execution_count": 1,
   "metadata": {},
   "outputs": [],
   "source": [
    "import pandas as pd"
   ]
  },
  {
   "cell_type": "code",
   "execution_count": 2,
   "metadata": {},
   "outputs": [],
   "source": [
    "click_log=pd.read_csv(\"test/click_log.csv\")\n",
    "user=pd.read_csv(\"submission.csv\")\n",
    "click_log['creative_id'] = click_log['creative_id'].astype(str)"
   ]
  },
  {
   "cell_type": "code",
   "execution_count": 3,
   "metadata": {},
   "outputs": [
    {
     "name": "stdout",
     "output_type": "stream",
     "text": [
      "99.9999%"
     ]
    }
   ],
   "source": [
    "import sys,time\n",
    "i=0\n",
    "user_items=[]\n",
    "for u in user[\"user_id\"]:\n",
    "    i+=1\n",
    "    if i<800001:\n",
    "        continue\n",
    "    creatives=click_log[click_log[\"user_id\"]==u]\n",
    "    a=creatives[\"creative_id\"].tolist()\n",
    "    temp=' '.join(a)\n",
    "    user_item=[u,temp]\n",
    "    user_items.append(user_item)\n",
    "\n",
    "    sys.stdout.write('\\r%s%%'%((u-3000001)*100/1000000))\n",
    "    sys.stdout.flush()\n",
    "\n",
    "    \n",
    "    if i%10000==0:\n",
    "        df=pd.DataFrame(user_items,columns=[\"user_id\",\"user_items\"])\n",
    "        test_userinf = pd.merge(df,user, on='user_id')\n",
    "        test_userinf.to_csv(\"test_data/test_userinf_%d.csv\"%i,index=False)\n",
    "        user_items=[]\n",
    "    "
   ]
  },
  {
   "cell_type": "code",
   "execution_count": null,
   "metadata": {},
   "outputs": [],
   "source": [
    "import os, zipfile\n",
    "#打包目录为zip文件（未压缩）\n",
    "def make_zip(source_dir, output_filename):\n",
    "  zipf = zipfile.ZipFile(output_filename, 'w')\n",
    "  pre_len = len(os.path.dirname(source_dir))\n",
    "  for parent, dirnames, filenames in os.walk(source_dir):\n",
    "    for filename in filenames:\n",
    "      pathfile = os.path.join(parent, filename)\n",
    "      arcname = pathfile[pre_len:].strip(os.path.sep)   #相对路径\n",
    "      zipf.write(pathfile, arcname)\n",
    "  zipf.close()\n",
    "make_zip(\"test_data\",\"test_data.zip\")"
   ]
  },
  {
   "cell_type": "code",
   "execution_count": null,
   "metadata": {},
   "outputs": [],
   "source": []
  }
 ],
 "metadata": {
  "kernelspec": {
   "display_name": "conda_pytorch_py3",
   "language": "python",
   "name": "conda_pytorch_py3"
  },
  "language_info": {
   "codemirror_mode": {
    "name": "ipython",
    "version": 3
   },
   "file_extension": ".py",
   "mimetype": "text/x-python",
   "name": "python",
   "nbconvert_exporter": "python",
   "pygments_lexer": "ipython3",
   "version": "3.6.5"
  }
 },
 "nbformat": 4,
 "nbformat_minor": 4
}
